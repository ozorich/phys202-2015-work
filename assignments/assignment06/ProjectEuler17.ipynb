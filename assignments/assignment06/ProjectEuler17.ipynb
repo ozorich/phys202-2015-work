{
 "cells": [
  {
   "cell_type": "markdown",
   "metadata": {
    "nbgrader": {}
   },
   "source": [
    "# Project Euler: Problem 17"
   ]
  },
  {
   "cell_type": "markdown",
   "metadata": {
    "nbgrader": {}
   },
   "source": [
    "https://projecteuler.net/problem=17\n",
    "\n",
    "If the numbers 1 to 5 are written out in words: one, two, three, four, five, then there are 3 + 3 + 5 + 4 + 4 = 19 letters used in total.\n",
    "\n",
    "If all the numbers from 1 to 1000 (one thousand) inclusive were written out in words, how many letters would be used?\n",
    "\n",
    "\n",
    "NOTE: Do not count spaces or hyphens. For example, 342 (three hundred and forty-two) contains 23 letters and 115 (one hundred and fifteen) contains 20 letters. The use of \"and\" when writing out numbers is in compliance with British usage."
   ]
  },
  {
   "cell_type": "markdown",
   "metadata": {
    "nbgrader": {}
   },
   "source": [
    "First write a `number_to_words(n)` function that takes an integer `n` between 1 and 1000 inclusive and returns a list of words for the number as described above"
   ]
  },
  {
   "cell_type": "code",
   "execution_count": 119,
   "metadata": {
    "collapsed": false,
    "nbgrader": {
     "checksum": "790b69a83b63d5a31b5fac1451dd3b54",
     "solution": true
    }
   },
   "outputs": [],
   "source": [
    "def number_to_words(n):\n",
    "    \"\"\"Given a number n between 1-1000 inclusive return a list of words for the number.\"\"\"\n",
    "    _1={1:' ',2:\"-\"}\n",
    "    _9={1:\"one\",2:\"two\",3:\"three\",4:\"four\",5:'five',6:'six',7:'seven',8:\"eight\",9:'nine',0:'',11:'and'}\n",
    "    _100={0:'',1:'ten',2:\"twenty\",3:'thirty',4:'forty',5:'fifty',6:'sixty',7:'seventy',8:'eighty',9:'ninety',10:'hundred'}\n",
    "    _19={1:'eleven',2:'twelve',3:'thirteen',4:'fourteen',5:'fifteen',6:'sixteen',7:'seventeen',8:'eighteen',9:'nineteen'}\n",
    "    #above creates all the needed combinations for up to 999 and below makes 1000\n",
    "    str_n=str(n)\n",
    "    x=int(str_n[0])\n",
    "    if n==1000:\n",
    "        first,second,third='one thousand','',''\n",
    "    elif len(str_n)==3: # takes care of all numbers from 100-999 \n",
    "        if int(str_n[1:3])>10 and int(str_n[1:3])<20: # writes for x11-x19\n",
    "            z=int(str_n[2])\n",
    "            first,second,third=_9[x]+_1[1]+_100[10]+_1[1]+_9[11],' ',_19[z]    \n",
    "        elif int(str_n[2])==0 and int(str_n[1])==0: #writes for 100,200,300,...\n",
    "            first,second,third=_9[x]+_1[1]+_100[10],'',''\n",
    "        else:\n",
    "            y,z=int(str_n[1]),int(str_n[2])#writes for all other numbers of length 3\n",
    "            first,second,third=_9[x]+_1[1]+_100[10]+_1[1]+_9[11]+_1[1],_100[y],_9[z]\n",
    "    elif len(str_n)==2: #takes care of 10-99\n",
    "        if n>10 and n<20: # writes for 11-19\n",
    "            y=int(str_n[1])\n",
    "            first,second,third='','',_19[y]\n",
    "        else:  #writes everything else\n",
    "            y=int(str_n[1])\n",
    "            first,second,third='',_100[x],_9[y]\n",
    "    else: #writes for 0-9\n",
    "        first,second,third='','',_9[x]\n",
    "    answer=first+second+third\n",
    "    return answer"
   ]
  },
  {
   "cell_type": "markdown",
   "metadata": {
    "nbgrader": {}
   },
   "source": [
    "Now write a set of `assert` tests for your `number_to_words` function that verifies that it is working as expected."
   ]
  },
  {
   "cell_type": "code",
   "execution_count": 120,
   "metadata": {
    "collapsed": false,
    "deletable": false,
    "nbgrader": {
     "checksum": "6cff4e8e53b15273846c3aecaea84a3d",
     "solution": true
    }
   },
   "outputs": [],
   "source": [
    "assert number_to_words(333)==\"three hundred and thirtythree\"\n",
    "assert number_to_words(21)=='twentyone'\n",
    "assert number_to_words(20)=='twenty'\n",
    "assert number_to_words(19)=='nineteen'\n",
    "assert number_to_words(219)=='two hundred and nineteen'\n",
    "assert number_to_words(1)=='one'\n",
    "assert number_to_words(1000)=='one thousand'\n",
    "assert number_to_words(101)=='one hundred and one'\n",
    "assert number_to_words(180)=='one hundred and eighty'\n",
    "assert number_to_words(100)=='one hundred'\n"
   ]
  },
  {
   "cell_type": "code",
   "execution_count": 121,
   "metadata": {
    "collapsed": true,
    "deletable": false,
    "nbgrader": {
     "checksum": "2c71c0f9dbe2a57b1ddc17bf544d86ed",
     "grade": true,
     "grade_id": "projecteuler17a",
     "points": 4
    }
   },
   "outputs": [],
   "source": [
    "assert True # use this for grading the number_to_words tests."
   ]
  },
  {
   "cell_type": "markdown",
   "metadata": {
    "nbgrader": {}
   },
   "source": [
    "Now define a `count_letters(n)` that returns the number of letters used to write out the words for all of the the numbers `1` to `n` inclusive."
   ]
  },
  {
   "cell_type": "code",
   "execution_count": 123,
   "metadata": {
    "collapsed": true,
    "nbgrader": {
     "checksum": "be228a805b41eda2b30887a53523f76b",
     "solution": true
    }
   },
   "outputs": [],
   "source": [
    "def count_letters(n):\n",
    "    \"\"\"Count the number of letters used to write out the words for 1-n inclusive.\"\"\"\n",
    "    numbers=[i for i in range(1,n+1)]\n",
    "    l=[number_to_words(i) for i in numbers]\n",
    "    f=''.join(l)\n",
    "    f1=f.replace(' ','')\n",
    "    f2=f1.replace('-','')\n",
    "    return len(f2)\n",
    "    \n",
    "    \n",
    "    "
   ]
  },
  {
   "cell_type": "markdown",
   "metadata": {
    "nbgrader": {}
   },
   "source": [
    "Now write a set of `assert` tests for your `count_letters` function that verifies that it is working as expected."
   ]
  },
  {
   "cell_type": "code",
   "execution_count": 124,
   "metadata": {
    "collapsed": false,
    "deletable": false,
    "nbgrader": {
     "checksum": "6cff4e8e53b15273846c3aecaea84a3d",
     "solution": true
    }
   },
   "outputs": [],
   "source": [
    "assert count_letters(1)==3\n",
    "assert count_letters(5)==19\n",
    "assert count_letters(10)==39\n",
    "assert count_letters(115)-count_letters(114)==20\n",
    "\n"
   ]
  },
  {
   "cell_type": "code",
   "execution_count": 125,
   "metadata": {
    "collapsed": true,
    "deletable": false,
    "nbgrader": {
     "checksum": "3a06c9610681f0174008f2976e310e0a",
     "grade": true,
     "grade_id": "projecteuler17b",
     "points": 4
    }
   },
   "outputs": [],
   "source": [
    "assert True # use this for grading the count_letters tests."
   ]
  },
  {
   "cell_type": "markdown",
   "metadata": {
    "nbgrader": {}
   },
   "source": [
    "Finally used your `count_letters` function to solve the original question."
   ]
  },
  {
   "cell_type": "code",
   "execution_count": 126,
   "metadata": {
    "collapsed": false,
    "deletable": false,
    "nbgrader": {
     "checksum": "6cff4e8e53b15273846c3aecaea84a3d",
     "solution": true
    },
    "scrolled": true
   },
   "outputs": [
    {
     "data": {
      "text/plain": [
       "21124"
      ]
     },
     "execution_count": 126,
     "metadata": {},
     "output_type": "execute_result"
    }
   ],
   "source": [
    "count_letters(1000)"
   ]
  },
  {
   "cell_type": "code",
   "execution_count": 127,
   "metadata": {
    "collapsed": true,
    "deletable": false,
    "nbgrader": {
     "checksum": "a136658e13c4f1154caf307a2e852f99",
     "grade": true,
     "grade_id": "projecteuler17c",
     "points": 2
    }
   },
   "outputs": [],
   "source": [
    "assert True # use this for gradig the answer to the original question."
   ]
  }
 ],
 "metadata": {
  "kernelspec": {
   "display_name": "Python 3",
   "language": "python",
   "name": "python3"
  },
  "language_info": {
   "codemirror_mode": {
    "name": "ipython",
    "version": 3
   },
   "file_extension": ".py",
   "mimetype": "text/x-python",
   "name": "python",
   "nbconvert_exporter": "python",
   "pygments_lexer": "ipython3",
   "version": "3.4.0"
  }
 },
 "nbformat": 4,
 "nbformat_minor": 0
}
