{
 "cells": [
  {
   "cell_type": "markdown",
   "metadata": {
    "nbgrader": {}
   },
   "source": [
    "# Project Euler: Problem 59"
   ]
  },
  {
   "cell_type": "markdown",
   "metadata": {
    "nbgrader": {}
   },
   "source": [
    "https://projecteuler.net/problem=59\n",
    "\n",
    "Each character on a computer is assigned a unique code and the preferred standard is ASCII (American Standard Code for Information Interchange). For example, uppercase A = 65, asterisk (*) = 42, and lowercase k = 107.\n",
    "\n",
    "A modern encryption method is to take a text file, convert the bytes to ASCII, then XOR each byte with a given value, taken from a secret key. The advantage with the XOR function is that using the same encryption key on the cipher text, restores the plain text; for example, 65 XOR 42 = 107, then 107 XOR 42 = 65.\n",
    "\n",
    "For unbreakable encryption, the key is the same length as the plain text message, and the key is made up of random bytes. The user would keep the encrypted message and the encryption key in different locations, and without both \"halves\", it is impossible to decrypt the message.\n",
    "\n",
    "Unfortunately, this method is impractical for most users, so the modified method is to use a password as a key. If the password is shorter than the message, which is likely, the key is repeated cyclically throughout the message. The balance for this method is using a sufficiently long password key for security, but short enough to be memorable.\n",
    "\n",
    "Your task has been made easy, as the encryption key consists of three lower case characters. Using cipher.txt (in this directory), a file containing the encrypted ASCII codes, and the knowledge that the plain text must contain common English words, decrypt the message and find the sum of the ASCII values in the original text."
   ]
  },
  {
   "cell_type": "markdown",
   "metadata": {
    "nbgrader": {}
   },
   "source": [
    "The following cell shows examples of how to perform XOR in Python and how to go back and forth between characters and integers:"
   ]
  },
  {
   "cell_type": "code",
   "execution_count": null,
   "metadata": {
    "collapsed": true,
    "nbgrader": {}
   },
   "outputs": [],
   "source": [
    "assert 65 ^ 42 == 107\n",
    "assert 107 ^ 42 == 65\n",
    "assert ord('a') == 97\n",
    "assert chr(97) == 'a'"
   ]
  },
  {
   "cell_type": "markdown",
   "metadata": {
    "nbgrader": {}
   },
   "source": [
    "Certain functions in the `itertools` module may be useful for computing permutations:"
   ]
  },
  {
   "cell_type": "code",
   "execution_count": 17,
   "metadata": {
    "collapsed": false,
    "nbgrader": {}
   },
   "outputs": [],
   "source": [
    "from itertools import *\n"
   ]
  },
  {
   "cell_type": "code",
   "execution_count": 1,
   "metadata": {
    "collapsed": false,
    "deletable": false,
    "nbgrader": {
     "checksum": "6cff4e8e53b15273846c3aecaea84a3d",
     "solution": true
    }
   },
   "outputs": [],
   "source": [
    "encrypted=open(\"cipher.txt\",\"r\")\n",
    "message=encrypted.read().split(\",\")\n",
    "encrypted.close()\n"
   ]
  },
  {
   "cell_type": "code",
   "execution_count": 36,
   "metadata": {
    "collapsed": false
   },
   "outputs": [],
   "source": [
    "def key_cycler(cycles):\n",
    "    for n in range(cycles):  #will repeat key for every index of message  this won't translate very last character since length in 400.33\n",
    "                u1=key[0]^int(message[3*n])\n",
    "                unencrypted.insert(3*n,u1) #inserts into corresponding spot in unencrypted list\n",
    "                u2=key[1]^int(message[(3*n)+1])\n",
    "                unencrypted.insert((3*n)+1,u2)\n",
    "                u3=key[2]^int(message[(3*n)+2]) #XOR each message interger against its corresponding key value\n",
    "                unencrypted.insert((3*n)+2,u3)\n",
    "                \n",
    "                \n"
   ]
  },
  {
   "cell_type": "markdown",
   "metadata": {},
   "source": [
    "\n",
    "The below is what I think should work however it takes a while to run so I end up interrupting kernel so I don't bog down system.  Finding all the values of the key doesn't take long so it must be an error in my method of cycling through the message with each key value that takes too much time.  I have been trying to figure out how to possibly use cycle() or repeat() function to run key against encrypted message.  I am going to submit now but still attempt to fix problem then resubmit "
   ]
  },
  {
   "cell_type": "code",
   "execution_count": null,
   "metadata": {
    "collapsed": true
   },
   "outputs": [],
   "source": [
    "length=len(message) \n",
    "print(length) \n",
    "repeat_times=1201/3 #gives me estimate of number of times to cycle through\n",
    "print(repeat_times)\n",
    "for a in range(97,123): #the values of lower case letters\n",
    "    for b in range(97,123):\n",
    "        for c in range(97,123):\n",
    "            key=[a,b,c]      #iterates through all key values for 3 lowercase letters\n",
    "            unencrypted=[]\n",
    "            key_cycler(400) #cycles key through message and puts into unencrypted\n",
    "            english=[]\n",
    "            for i in unencrypted:\n",
    "                e=chr(i)\n",
    "                english.append(e) #converts from ACSII to character string\n",
    "            english=\"\".join(english) #converts to whole string\n",
    "            if \" the \" in english: #checks to see if \" the \" is in message . Like suggested in the Gitter Chat I am assuming this won't appear if not correct key\n",
    "                print(english) # if it does appear for incorrect keys then I can remove the break and print all instance where\n",
    "                print(key)    #\" the \" appears and then select which key produces a completely legible message\n",
    "                break     #prints the key that made instance of message and then breaks the for loop so only first message with\n",
    "                # instances of \" the \" occuring is printed\n",
    "                \n",
    "                            \n",
    "                \n",
    "           \n",
    "            \n",
    "            \n",
    "                                    "
   ]
  },
  {
   "cell_type": "markdown",
   "metadata": {},
   "source": [
    "Test of lower half of code by using a set key"
   ]
  },
  {
   "cell_type": "code",
   "execution_count": null,
   "metadata": {
    "collapsed": true
   },
   "outputs": [],
   "source": [
    "key=[97,97,97]      #iterates through all key values for 3 lowercase letters\n",
    "unencrypted=[]\n",
    "key_cycler(400) #cycles key through message and puts into unencrypted\n",
    "english=[]\n",
    "for i in unencrypted:\n",
    "    e=chr(i)\n",
    "    english.append(e) #converts from ACSII to character string\n",
    "english=\"\".join(english) #converts to whole string\n",
    "\n",
    "print(english)\n",
    "                        "
   ]
  },
  {
   "cell_type": "markdown",
   "metadata": {
    "collapsed": true
   },
   "source": [
    "However this still takes too long to finish so must be an erro in the key_cycler function"
   ]
  },
  {
   "cell_type": "code",
   "execution_count": null,
   "metadata": {
    "collapsed": true,
    "deletable": false,
    "nbgrader": {
     "checksum": "dcdf6792a88c661545d3ca651212dba8",
     "grade": true,
     "grade_id": "projecteuler59",
     "points": 10
    }
   },
   "outputs": [],
   "source": [
    "# This cell will be used for grading, leave it at the end of the notebook."
   ]
  }
 ],
 "metadata": {
  "kernelspec": {
   "display_name": "Python 3",
   "language": "python",
   "name": "python3"
  },
  "language_info": {
   "codemirror_mode": {
    "name": "ipython",
    "version": 3
   },
   "file_extension": ".py",
   "mimetype": "text/x-python",
   "name": "python",
   "nbconvert_exporter": "python",
   "pygments_lexer": "ipython3",
   "version": "3.4.0"
  }
 },
 "nbformat": 4,
 "nbformat_minor": 0
}
