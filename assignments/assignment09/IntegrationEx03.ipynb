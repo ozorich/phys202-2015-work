{
 "cells": [
  {
   "cell_type": "markdown",
   "metadata": {
    "nbgrader": {}
   },
   "source": [
    "# Integration Exercise 3"
   ]
  },
  {
   "cell_type": "markdown",
   "metadata": {
    "nbgrader": {}
   },
   "source": [
    "## Imports"
   ]
  },
  {
   "cell_type": "code",
   "execution_count": 1,
   "metadata": {
    "collapsed": true,
    "nbgrader": {}
   },
   "outputs": [],
   "source": [
    "%matplotlib inline\n",
    "import matplotlib.pyplot as plt\n",
    "import numpy as np\n",
    "from scipy import integrate\n",
    "from scipy.integrate import dblquad"
   ]
  },
  {
   "cell_type": "markdown",
   "metadata": {
    "nbgrader": {}
   },
   "source": [
    "## 2d polar integration"
   ]
  },
  {
   "cell_type": "markdown",
   "metadata": {
    "nbgrader": {}
   },
   "source": [
    "The 2d polar integral of a scalar function $f(r, \\theta)$ is defined as:\n",
    "\n",
    "$$ I(r_{max}) = \\int_0^{r_{max}} \\int_0^{2\\pi} f(r, \\theta) r d\\theta $$\n",
    "\n",
    "Write a function `integrate_polar(f, rmax)` that performs this integral numerically using `scipy.integrate.dblquad`."
   ]
  },
  {
   "cell_type": "code",
   "execution_count": 74,
   "metadata": {
    "collapsed": false,
    "nbgrader": {
     "checksum": "34d34aebbbca8c33e411d1346ba1385b",
     "solution": true
    }
   },
   "outputs": [],
   "source": [
    "def integrate_polar(f, rmax):\n",
    "    \"\"\"Integrate the function f(r, theta) over r=[0,rmax], theta=[0,2*np.pi]\"\"\"\n",
    "    thmin=0\n",
    "    thmax=2*np.pi\n",
    "    \n",
    "    \n",
    "    rmin=lambda t: 0\n",
    "    rm=lambda t: rmax\n",
    "    \n",
    "    f1=lambda r,t :f(r,t)*r  #started on this path from suggestion in Gitter chat\n",
    "    \n",
    "    I,e=dblquad(f1,thmin,thmax,rmin,rm)\n",
    "    return (I)\n",
    "    \n",
    "  \n"
   ]
  },
  {
   "cell_type": "code",
   "execution_count": 76,
   "metadata": {
    "collapsed": false
   },
   "outputs": [
    {
     "data": {
      "text/plain": [
       "3.141592653589793"
      ]
     },
     "execution_count": 76,
     "metadata": {},
     "output_type": "execute_result"
    }
   ],
   "source": [
    "integrate_polar(lambda r,t: 1, 1.0)"
   ]
  },
  {
   "cell_type": "code",
   "execution_count": 77,
   "metadata": {
    "collapsed": false
   },
   "outputs": [
    {
     "data": {
      "text/plain": [
       "3.141592653589792"
      ]
     },
     "execution_count": 77,
     "metadata": {},
     "output_type": "execute_result"
    }
   ],
   "source": [
    "integrate_polar(lambda r, t: np.exp(-r)*(np.cos(t)**2),np.inf)"
   ]
  },
  {
   "cell_type": "code",
   "execution_count": 80,
   "metadata": {
    "collapsed": false,
    "deletable": false,
    "nbgrader": {
     "checksum": "384edec4c155b2fb5e56d024ad47deff",
     "grade": true,
     "grade_id": "integrationex04a",
     "points": 10
    }
   },
   "outputs": [],
   "source": [
    "assert np.allclose(integrate_polar(lambda r,t: 1, 1.0), np.pi)\n",
    "assert np.allclose(integrate_polar(lambda r, t: np.exp(-r)*(np.cos(t)**2), np.inf), np.pi)"
   ]
  },
  {
   "cell_type": "code",
   "execution_count": null,
   "metadata": {
    "collapsed": true
   },
   "outputs": [],
   "source": []
  },
  {
   "cell_type": "code",
   "execution_count": null,
   "metadata": {
    "collapsed": true
   },
   "outputs": [],
   "source": []
  }
 ],
 "metadata": {
  "kernelspec": {
   "display_name": "Python 3",
   "language": "python",
   "name": "python3"
  },
  "language_info": {
   "codemirror_mode": {
    "name": "ipython",
    "version": 3
   },
   "file_extension": ".py",
   "mimetype": "text/x-python",
   "name": "python",
   "nbconvert_exporter": "python",
   "pygments_lexer": "ipython3",
   "version": "3.4.0"
  }
 },
 "nbformat": 4,
 "nbformat_minor": 0
}
